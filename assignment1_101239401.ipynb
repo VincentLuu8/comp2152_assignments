{
 "cells": [
  {
   "cell_type": "code",
   "id": "56dd88c809e1b490",
   "metadata": {},
   "source": [
    "\"\"\"\n",
    "Author: Vincent Luu\n",
    "Assignment: #1\n",
    "\"\"\""
   ],
   "outputs": [],
   "execution_count": null
  },
  {
   "metadata": {},
   "cell_type": "code",
   "source": [
    "# 4 Variables\n",
    "\n",
    "gym_member = \"George Keller\"  # String - Name of the gym member\n",
    "preferred_weight_kg = 57.5  # Float - Preferred weight in kg\n",
    "highest_reps = 45  # Integer - Highest amount of reps done\n",
    "membership_active = True  # Boolean - Status of the membership"
   ],
   "id": "8a285de1b651397e",
   "outputs": [],
   "execution_count": null
  },
  {
   "metadata": {},
   "cell_type": "code",
   "source": [
    "# Dictionairy which stores the minutes spend on different workout activities for each person\n",
    "\n",
    "workout_stats = {\n",
    "    \"George\": (40, 35, 45),  # Jogging, Weightlifting, Stretching\n",
    "    \"Hamilton\": (35, 55, 20),\n",
    "    \"Patricia\": (55, 45, 30)\n",
    "}\n",
    "new_entries = {}"
   ],
   "id": "26ebad35c173b27f",
   "outputs": [],
   "execution_count": null
  },
  {
   "metadata": {
    "ExecuteTime": {
     "end_time": "2025-02-09T22:47:12.276016Z",
     "start_time": "2025-02-09T22:47:12.273659Z"
    }
   },
   "cell_type": "code",
   "source": [
    "# Workout minutes for each person\n",
    "\n",
    "for friend, minutes in workout_stats.items():\n",
    "    total_minutes = minutes\n",
    "    new_entries[f\"{friend}_Total\"] = total_minutes  # Stores a new entry in temporary dictionary\n",
    "\n",
    "workout_stats.update(new_entries)\n",
    "\n",
    "print(workout_stats)"
   ],
   "id": "e29542daa7d15243",
   "outputs": [
    {
     "name": "stdout",
     "output_type": "stream",
     "text": [
      "{'Alex': (30, 45, 20), 'Jamie': (40, 50, 30), 'Taylor': (35, 55, 25), 'Alex_Total': (30, 45, 20), 'Jamie_Total': (40, 50, 30), 'Taylor_Total': (35, 55, 25), 'Alex_Total_Total': (30, 45, 20), 'Jamie_Total_Total': (40, 50, 30), 'Taylor_Total_Total': (35, 55, 25), 'Alex_Total_Total_Total': (30, 45, 20), 'Jamie_Total_Total_Total': (40, 50, 30), 'Taylor_Total_Total_Total': (35, 55, 25), 'Alex_Total_Total_Total_Total': 95, 'Jamie_Total_Total_Total_Total': 120, 'Taylor_Total_Total_Total_Total': 115}\n"
     ]
    }
   ],
   "execution_count": 20
  },
  {
   "metadata": {},
   "cell_type": "code",
   "source": [
    "# 2-D list\n",
    "\n",
    "workout_list = [list(minutes) for friend, minutes in workout_stats.items() if \"Total\" not in friend]"
   ],
   "id": "28763bce9889ea6a",
   "outputs": [],
   "execution_count": null
  },
  {
   "metadata": {},
   "cell_type": "code",
   "source": [
    "# Slicing the workout list\n",
    "\n",
    "print(\"Jogging and weightlifting minutes for all friends:\", [row[:2] for row in workout_list])\n",
    "print(\"Stretching minutes for last two friends:\", [row[2] for row in workout_list[-2:]])"
   ],
   "id": "451ff32228d9c380",
   "outputs": [],
   "execution_count": null
  },
  {
   "metadata": {},
   "cell_type": "code",
   "source": [
    "# Checking for workouts >= 120 minutes\n",
    "\n",
    "for friend, total in workout_stats.items():\n",
    "    if \"Total\" in friend:\n",
    "        if isinstance(total, tuple):\n",
    "            total = total[0]\n",
    "        # Checking if workout minutes is >= 120\n",
    "        if total >= 120:\n",
    "            print(f\"Great job staying active, {friend.split('_')[0]}!\")"
   ],
   "id": "9747c686de39055a",
   "outputs": [],
   "execution_count": null
  },
  {
   "metadata": {},
   "cell_type": "code",
   "source": [
    "# For the user to check their workout stats\n",
    "\n",
    "friend_name = input(\"Enter a friend's name: \")\n",
    "if friend_name in workout_stats:\n",
    "    print(f\"Workout minutes for {friend_name}: {workout_stats[friend_name]}\")\n",
    "    print(f\"Total workout minutes: {workout_stats[f'{friend_name}_Total']}\")\n",
    "else:\n",
    "    print(f\"Friend {friend_name} not found in the records.\")"
   ],
   "id": "3f4f521febcc87ab",
   "outputs": [],
   "execution_count": null
  },
  {
   "metadata": {},
   "cell_type": "code",
   "source": [
    "# Searching for the highest and lowest total workout minutes\n",
    "\n",
    "friends_totals = {friend: total[0] if isinstance(total, tuple) else total\n",
    "                  for friend, total in workout_stats.items() if \"Total\" in friend}\n",
    "\n",
    "highest_friend = max(friends_totals, key=friends_totals.get)  # Gets the max by the integer value\n",
    "lowest_friend = min(friends_totals, key=friends_totals.get)  # Gets the min by the integer value\n",
    "\n",
    "print(f\"The friend with the highest total workout minutes: {highest_friend.split('_')[0]}\")\n",
    "print(f\"The friend with the lowest total workout minutes: {lowest_friend.split('_')[0]}\")"
   ],
   "id": "600812e9fc26470d",
   "outputs": [],
   "execution_count": null
  },
  {
   "metadata": {},
   "cell_type": "code",
   "source": "",
   "id": "5b5e6f2baf48a815",
   "outputs": [],
   "execution_count": null
  }
 ],
 "metadata": {
  "kernelspec": {
   "display_name": "Python 3",
   "language": "python",
   "name": "python3"
  },
  "language_info": {
   "codemirror_mode": {
    "name": "ipython",
    "version": 2
   },
   "file_extension": ".py",
   "mimetype": "text/x-python",
   "name": "python",
   "nbconvert_exporter": "python",
   "pygments_lexer": "ipython2",
   "version": "2.7.6"
  }
 },
 "nbformat": 4,
 "nbformat_minor": 5
}
